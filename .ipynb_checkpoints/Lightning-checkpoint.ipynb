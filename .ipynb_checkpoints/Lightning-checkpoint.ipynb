{
 "metadata": {
  "language": "Julia",
  "name": ""
 },
 "nbformat": 3,
 "nbformat_minor": 0,
 "worksheets": [
  {
   "cells": [
    {
     "cell_type": "markdown",
     "metadata": {},
     "source": [
      "Hello. This is my first introduction to julia. This looks pretty cool."
     ]
    },
    {
     "cell_type": "code",
     "collapsed": false,
     "input": [
      "A=rand(5,5)"
     ],
     "language": "python",
     "metadata": {},
     "outputs": [
      {
       "metadata": {},
       "output_type": "pyout",
       "prompt_number": 1,
       "text": [
        "5x5 Array{Float64,2}:\n",
        " 0.130785  0.305502  0.838615  0.969122   0.450621\n",
        " 0.249364  0.902347  0.433319  0.534967   0.55594 \n",
        " 0.447382  0.597057  0.843016  0.20019    0.250016\n",
        " 0.598318  0.847994  0.301897  0.0213453  0.849334\n",
        " 0.505137  0.8322    0.583086  0.365162   0.740643"
       ]
      }
     ],
     "prompt_number": 1
    },
    {
     "cell_type": "code",
     "collapsed": false,
     "input": [
      "A[1,1]"
     ],
     "language": "python",
     "metadata": {},
     "outputs": [
      {
       "metadata": {},
       "output_type": "pyout",
       "prompt_number": 3,
       "text": [
        "0.13078531907281254"
       ]
      }
     ],
     "prompt_number": 3
    },
    {
     "cell_type": "code",
     "collapsed": false,
     "input": [
      "rand(5,5)[1,1]"
     ],
     "language": "python",
     "metadata": {},
     "outputs": [
      {
       "metadata": {},
       "output_type": "pyout",
       "prompt_number": 4,
       "text": [
        "0.5028977364669751"
       ]
      }
     ],
     "prompt_number": 4
    },
    {
     "cell_type": "code",
     "collapsed": false,
     "input": [
      "[i for i=1:5]"
     ],
     "language": "python",
     "metadata": {},
     "outputs": [
      {
       "metadata": {},
       "output_type": "pyout",
       "prompt_number": 5,
       "text": [
        "5-element Array{Int32,1}:\n",
        " 1\n",
        " 2\n",
        " 3\n",
        " 4\n",
        " 5"
       ]
      }
     ],
     "prompt_number": 5
    },
    {
     "cell_type": "code",
     "collapsed": false,
     "input": [
      "[trace(rand(n,n)) for n=1:5]"
     ],
     "language": "python",
     "metadata": {},
     "outputs": [
      {
       "metadata": {},
       "output_type": "pyout",
       "prompt_number": 6,
       "text": [
        "5-element Array{Float64,1}:\n",
        " 0.462844\n",
        " 1.61101 \n",
        " 1.2932  \n",
        " 2.8087  \n",
        " 2.82912 "
       ]
      }
     ],
     "prompt_number": 6
    },
    {
     "cell_type": "code",
     "collapsed": false,
     "input": [
      "x=rand(10);"
     ],
     "language": "python",
     "metadata": {},
     "outputs": [
      {
       "metadata": {},
       "output_type": "pyout",
       "prompt_number": 7,
       "text": [
        "9-element Array{Any,1}:\n",
        " 0.968093\n",
        " 1.34986 \n",
        " 0.913563\n",
        " 0.432284\n",
        " 0.572554\n",
        " 1.43811 \n",
        " 1.04394 \n",
        " 0.330853\n",
        " 0.843819"
       ]
      }
     ],
     "prompt_number": 7
    },
    {
     "cell_type": "code",
     "collapsed": false,
     "input": [
      " [x[i] + x[i+1] for i=1:9]"
     ],
     "language": "python",
     "metadata": {},
     "outputs": [
      {
       "metadata": {},
       "output_type": "pyout",
       "prompt_number": 8,
       "text": [
        "9-element Array{Any,1}:\n",
        " 0.968093\n",
        " 1.34986 \n",
        " 0.913563\n",
        " 0.432284\n",
        " 0.572554\n",
        " 1.43811 \n",
        " 1.04394 \n",
        " 0.330853\n",
        " 0.843819"
       ]
      }
     ],
     "prompt_number": 8
    },
    {
     "cell_type": "code",
     "collapsed": false,
     "input": [
      "{eye(n) for n=1:5}"
     ],
     "language": "python",
     "metadata": {},
     "outputs": [
      {
       "metadata": {},
       "output_type": "pyout",
       "prompt_number": 9,
       "text": [
        "5-element Array{Any,1}:\n",
        " 1x1 Array{Float64,2}:\n",
        " 1.0                                                                                                                        \n",
        " 2x2 Array{Float64,2}:\n",
        " 1.0  0.0\n",
        " 0.0  1.0                                                                                                         \n",
        " 3x3 Array{Float64,2}:\n",
        " 1.0  0.0  0.0\n",
        " 0.0  1.0  0.0\n",
        " 0.0  0.0  1.0                                                                                \n",
        " 4x4 Array{Float64,2}:\n",
        " 1.0  0.0  0.0  0.0\n",
        " 0.0  1.0  0.0  0.0\n",
        " 0.0  0.0  1.0  0.0\n",
        " 0.0  0.0  0.0  1.0                                             \n",
        " 5x5 Array{Float64,2}:\n",
        " 1.0  0.0  0.0  0.0  0.0\n",
        " 0.0  1.0  0.0  0.0  0.0\n",
        " 0.0  0.0  1.0  0.0  0.0\n",
        " 0.0  0.0  0.0  1.0  0.0\n",
        " 0.0  0.0  0.0  0.0  1.0"
       ]
      }
     ],
     "prompt_number": 9
    },
    {
     "cell_type": "code",
     "collapsed": false,
     "input": [
      "[i+j for i=1:5, j=1:5]"
     ],
     "language": "python",
     "metadata": {},
     "outputs": [
      {
       "metadata": {},
       "output_type": "pyout",
       "prompt_number": 10,
       "text": [
        "5x5 Array{Int32,2}:\n",
        " 2  3  4  5   6\n",
        " 3  4  5  6   7\n",
        " 4  5  6  7   8\n",
        " 5  6  7  8   9\n",
        " 6  7  8  9  10"
       ]
      }
     ],
     "prompt_number": 10
    },
    {
     "cell_type": "code",
     "collapsed": false,
     "input": [],
     "language": "python",
     "metadata": {},
     "outputs": []
    }
   ],
   "metadata": {}
  }
 ]
}