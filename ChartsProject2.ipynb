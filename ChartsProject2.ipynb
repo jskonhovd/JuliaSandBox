{
 "metadata": {
  "language": "Julia",
  "name": ""
 },
 "nbformat": 3,
 "nbformat_minor": 0,
 "worksheets": [
  {
   "cells": [
    {
     "cell_type": "code",
     "collapsed": false,
     "input": [
      "using PyPlot\n",
      "\n",
      "x = [i for i=-100:100]\n",
      "y = [i for i=-100:100]\n",
      "\n",
      "function e(x1,x2)\n",
      "    n = cos(sin(abs(x1^2-x2^2))) - 0.5;\n",
      "    d = (1 + (0.001*(x1^2+x2^2)))^2\n",
      "    ret = n/d\n",
      "    return 0.5 + ret\n",
      "end\n",
      "\n",
      "function n(x1, x2)\n",
      "    return cos(sin(abs(x1^2-x2^2)));\n",
      "end\n",
      "\n",
      "function d(x1, x2)\n",
      "    return (1 + 0.001*(x1^2+x2^2)).^2\n",
      "end\n"
     ],
     "language": "python",
     "metadata": {},
     "outputs": [
      {
       "ename": "LoadError",
       "evalue": "plot3d not defined\nat In[42]:21",
       "output_type": "pyerr",
       "traceback": [
        "plot3d not defined\nat In[42]:21"
       ]
      }
     ],
     "prompt_number": 42
    },
    {
     "cell_type": "code",
     "collapsed": false,
     "input": [
      "top = n(0,1.25313)"
     ],
     "language": "python",
     "metadata": {},
     "outputs": [
      {
       "metadata": {},
       "output_type": "pyout",
       "prompt_number": 36,
       "text": [
        "0.5403023954889367"
       ]
      }
     ],
     "prompt_number": 36
    },
    {
     "cell_type": "code",
     "collapsed": false,
     "input": [
      "bot =d(0,1.25313)"
     ],
     "language": "python",
     "metadata": {},
     "outputs": [
      {
       "metadata": {},
       "output_type": "pyout",
       "prompt_number": 33,
       "text": [
        "1.0031431355451745"
       ]
      }
     ],
     "prompt_number": 33
    },
    {
     "cell_type": "code",
     "collapsed": false,
     "input": [
      "top/bot"
     ],
     "language": "python",
     "metadata": {},
     "outputs": [
      {
       "metadata": {},
       "output_type": "pyout",
       "prompt_number": 34,
       "text": [
        "0.04017611650906993"
       ]
      }
     ],
     "prompt_number": 34
    },
    {
     "cell_type": "code",
     "collapsed": false,
     "input": [],
     "language": "python",
     "metadata": {},
     "outputs": []
    }
   ],
   "metadata": {}
  }
 ]
}