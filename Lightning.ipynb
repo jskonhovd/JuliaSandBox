{
 "metadata": {
  "language": "Julia",
  "name": ""
 },
 "nbformat": 3,
 "nbformat_minor": 0,
 "worksheets": [
  {
   "cells": [
    {
     "cell_type": "markdown",
     "metadata": {},
     "source": [
      "Hello. This is my first introduction to julia. This looks pretty cool."
     ]
    },
    {
     "cell_type": "code",
     "collapsed": false,
     "input": [
      "A=rand(5,5)"
     ],
     "language": "python",
     "metadata": {},
     "outputs": [
      {
       "metadata": {},
       "output_type": "pyout",
       "prompt_number": 1,
       "text": [
        "5x5 Array{Float64,2}:\n",
        " 0.130785  0.305502  0.838615  0.969122   0.450621\n",
        " 0.249364  0.902347  0.433319  0.534967   0.55594 \n",
        " 0.447382  0.597057  0.843016  0.20019    0.250016\n",
        " 0.598318  0.847994  0.301897  0.0213453  0.849334\n",
        " 0.505137  0.8322    0.583086  0.365162   0.740643"
       ]
      }
     ],
     "prompt_number": 1
    },
    {
     "cell_type": "code",
     "collapsed": false,
     "input": [
      "A[1,1]"
     ],
     "language": "python",
     "metadata": {},
     "outputs": [
      {
       "metadata": {},
       "output_type": "pyout",
       "prompt_number": 3,
       "text": [
        "0.13078531907281254"
       ]
      }
     ],
     "prompt_number": 3
    },
    {
     "cell_type": "code",
     "collapsed": false,
     "input": [
      "rand(5,5)[1,1]"
     ],
     "language": "python",
     "metadata": {},
     "outputs": [
      {
       "metadata": {},
       "output_type": "pyout",
       "prompt_number": 4,
       "text": [
        "0.5028977364669751"
       ]
      }
     ],
     "prompt_number": 4
    },
    {
     "cell_type": "code",
     "collapsed": false,
     "input": [
      "[i for i=1:5]"
     ],
     "language": "python",
     "metadata": {},
     "outputs": [
      {
       "metadata": {},
       "output_type": "pyout",
       "prompt_number": 5,
       "text": [
        "5-element Array{Int32,1}:\n",
        " 1\n",
        " 2\n",
        " 3\n",
        " 4\n",
        " 5"
       ]
      }
     ],
     "prompt_number": 5
    },
    {
     "cell_type": "code",
     "collapsed": false,
     "input": [
      "[trace(rand(n,n)) for n=1:5]"
     ],
     "language": "python",
     "metadata": {},
     "outputs": [
      {
       "metadata": {},
       "output_type": "pyout",
       "prompt_number": 6,
       "text": [
        "5-element Array{Float64,1}:\n",
        " 0.462844\n",
        " 1.61101 \n",
        " 1.2932  \n",
        " 2.8087  \n",
        " 2.82912 "
       ]
      }
     ],
     "prompt_number": 6
    },
    {
     "cell_type": "code",
     "collapsed": false,
     "input": [
      "x=rand(10);"
     ],
     "language": "python",
     "metadata": {},
     "outputs": [
      {
       "metadata": {},
       "output_type": "pyout",
       "prompt_number": 7,
       "text": [
        "9-element Array{Any,1}:\n",
        " 0.968093\n",
        " 1.34986 \n",
        " 0.913563\n",
        " 0.432284\n",
        " 0.572554\n",
        " 1.43811 \n",
        " 1.04394 \n",
        " 0.330853\n",
        " 0.843819"
       ]
      }
     ],
     "prompt_number": 7
    },
    {
     "cell_type": "code",
     "collapsed": false,
     "input": [
      " [x[i] + x[i+1] for i=1:9]"
     ],
     "language": "python",
     "metadata": {},
     "outputs": [
      {
       "metadata": {},
       "output_type": "pyout",
       "prompt_number": 8,
       "text": [
        "9-element Array{Any,1}:\n",
        " 0.968093\n",
        " 1.34986 \n",
        " 0.913563\n",
        " 0.432284\n",
        " 0.572554\n",
        " 1.43811 \n",
        " 1.04394 \n",
        " 0.330853\n",
        " 0.843819"
       ]
      }
     ],
     "prompt_number": 8
    },
    {
     "cell_type": "code",
     "collapsed": false,
     "input": [
      "{eye(n) for n=1:5}"
     ],
     "language": "python",
     "metadata": {},
     "outputs": [
      {
       "metadata": {},
       "output_type": "pyout",
       "prompt_number": 9,
       "text": [
        "5-element Array{Any,1}:\n",
        " 1x1 Array{Float64,2}:\n",
        " 1.0                                                                                                                        \n",
        " 2x2 Array{Float64,2}:\n",
        " 1.0  0.0\n",
        " 0.0  1.0                                                                                                         \n",
        " 3x3 Array{Float64,2}:\n",
        " 1.0  0.0  0.0\n",
        " 0.0  1.0  0.0\n",
        " 0.0  0.0  1.0                                                                                \n",
        " 4x4 Array{Float64,2}:\n",
        " 1.0  0.0  0.0  0.0\n",
        " 0.0  1.0  0.0  0.0\n",
        " 0.0  0.0  1.0  0.0\n",
        " 0.0  0.0  0.0  1.0                                             \n",
        " 5x5 Array{Float64,2}:\n",
        " 1.0  0.0  0.0  0.0  0.0\n",
        " 0.0  1.0  0.0  0.0  0.0\n",
        " 0.0  0.0  1.0  0.0  0.0\n",
        " 0.0  0.0  0.0  1.0  0.0\n",
        " 0.0  0.0  0.0  0.0  1.0"
       ]
      }
     ],
     "prompt_number": 9
    },
    {
     "cell_type": "code",
     "collapsed": false,
     "input": [
      "[i+j for i=1:5, j=1:5]"
     ],
     "language": "python",
     "metadata": {},
     "outputs": [
      {
       "metadata": {},
       "output_type": "pyout",
       "prompt_number": 10,
       "text": [
        "5x5 Array{Int32,2}:\n",
        " 2  3  4  5   6\n",
        " 3  4  5  6   7\n",
        " 4  5  6  7   8\n",
        " 5  6  7  8   9\n",
        " 6  7  8  9  10"
       ]
      }
     ],
     "prompt_number": 10
    },
    {
     "cell_type": "code",
     "collapsed": false,
     "input": [
      "A = rand(5,6);"
     ],
     "language": "python",
     "metadata": {},
     "outputs": [],
     "prompt_number": 10
    },
    {
     "cell_type": "code",
     "collapsed": false,
     "input": [
      "svd(A)"
     ],
     "language": "python",
     "metadata": {},
     "outputs": [
      {
       "metadata": {},
       "output_type": "pyout",
       "prompt_number": 11,
       "text": [
        "(\n",
        "5x5 Array{Float64,2}:\n",
        " -0.425724  -0.710419    0.0534527  -0.542616   -0.129515 \n",
        " -0.330366  -0.0449061  -0.460035    0.0771154   0.819306 \n",
        " -0.617827  -0.109291    0.329098    0.692586   -0.135516 \n",
        " -0.485221   0.661046    0.321911   -0.468689    0.0654434\n",
        " -0.304086   0.210623   -0.757349    0.0166008  -0.537881 ,\n",
        "\n",
        "[2.7265768152766485,1.1306286381279576,0.7415444062669296,0.3629333623229754,0.16673781566045442],\n",
        "6x5 Array{Float64,2}:\n",
        " -0.37933    0.428729   0.223181   -0.061225    0.71225 \n",
        " -0.518079   0.548752  -0.348534    0.321117   -0.317487\n",
        " -0.463808  -0.458196   0.368017    0.0055101   0.208838\n",
        " -0.297293  -0.329939  -0.746503   -0.447067    0.19636 \n",
        " -0.371767  -0.437604   0.0171868   0.579776   -0.151476\n",
        " -0.382089   0.069      0.368397   -0.597575   -0.535524)"
       ]
      }
     ],
     "prompt_number": 11
    },
    {
     "cell_type": "code",
     "collapsed": false,
     "input": [
      "(u,s,v) = svd(A)"
     ],
     "language": "python",
     "metadata": {},
     "outputs": [
      {
       "metadata": {},
       "output_type": "pyout",
       "prompt_number": 16,
       "text": [
        "(\n",
        "5x5 Array{Float64,2}:\n",
        " -0.425724  -0.710419    0.0534527  -0.542616   -0.129515 \n",
        " -0.330366  -0.0449061  -0.460035    0.0771154   0.819306 \n",
        " -0.617827  -0.109291    0.329098    0.692586   -0.135516 \n",
        " -0.485221   0.661046    0.321911   -0.468689    0.0654434\n",
        " -0.304086   0.210623   -0.757349    0.0166008  -0.537881 ,\n",
        "\n",
        "[2.7265768152766485,1.1306286381279576,0.7415444062669296,0.3629333623229754,0.16673781566045442],\n",
        "6x5 Array{Float64,2}:\n",
        " -0.37933    0.428729   0.223181   -0.061225    0.71225 \n",
        " -0.518079   0.548752  -0.348534    0.321117   -0.317487\n",
        " -0.463808  -0.458196   0.368017    0.0055101   0.208838\n",
        " -0.297293  -0.329939  -0.746503   -0.447067    0.19636 \n",
        " -0.371767  -0.437604   0.0171868   0.579776   -0.151476\n",
        " -0.382089   0.069      0.368397   -0.597575   -0.535524)"
       ]
      }
     ],
     "prompt_number": 16
    },
    {
     "cell_type": "code",
     "collapsed": false,
     "input": [
      "ndims(u), typeof(u)"
     ],
     "language": "python",
     "metadata": {},
     "outputs": [
      {
       "metadata": {},
       "output_type": "pyout",
       "prompt_number": 14,
       "text": [
        "(2,Array{Float64,2})"
       ]
      }
     ],
     "prompt_number": 14
    },
    {
     "cell_type": "code",
     "collapsed": false,
     "input": [
      "ndims(s), tpyeof(s)"
     ],
     "language": "python",
     "metadata": {},
     "outputs": [
      {
       "ename": "LoadError",
       "evalue": "tpyeof not defined\nat In[17]:1",
       "output_type": "pyerr",
       "traceback": [
        "tpyeof not defined\nat In[17]:1"
       ]
      }
     ],
     "prompt_number": 17
    },
    {
     "cell_type": "code",
     "collapsed": false,
     "input": [
      "si(x) = (x>0) ? 1 : -1"
     ],
     "language": "python",
     "metadata": {},
     "outputs": [
      {
       "metadata": {},
       "output_type": "pyout",
       "prompt_number": 18,
       "text": [
        "si (generic function with 1 method)"
       ]
      }
     ],
     "prompt_number": 18
    },
    {
     "cell_type": "code",
     "collapsed": false,
     "input": [
      "si(9)"
     ],
     "language": "python",
     "metadata": {},
     "outputs": [
      {
       "metadata": {},
       "output_type": "pyout",
       "prompt_number": 19,
       "text": [
        "1"
       ]
      }
     ],
     "prompt_number": 19
    },
    {
     "cell_type": "code",
     "collapsed": false,
     "input": [
      "im"
     ],
     "language": "python",
     "metadata": {},
     "outputs": [
      {
       "metadata": {},
       "output_type": "pyout",
       "prompt_number": 20,
       "text": [
        "im"
       ]
      }
     ],
     "prompt_number": 20
    },
    {
     "cell_type": "code",
     "collapsed": false,
     "input": [
      "typeof(2im)"
     ],
     "language": "python",
     "metadata": {},
     "outputs": [
      {
       "metadata": {},
       "output_type": "pyout",
       "prompt_number": 21,
       "text": [
        "Complex{Int32} (constructor with 1 method)"
       ]
      }
     ],
     "prompt_number": 21
    },
    {
     "cell_type": "code",
     "collapsed": false,
     "input": [
      "typeof(2.0im)"
     ],
     "language": "python",
     "metadata": {},
     "outputs": [
      {
       "metadata": {},
       "output_type": "pyout",
       "prompt_number": 22,
       "text": [
        "Complex{Float64} (constructor with 1 method)"
       ]
      }
     ],
     "prompt_number": 22
    },
    {
     "cell_type": "code",
     "collapsed": false,
     "input": [
      "complex(3,4)"
     ],
     "language": "python",
     "metadata": {},
     "outputs": [
      {
       "metadata": {},
       "output_type": "pyout",
       "prompt_number": 23,
       "text": [
        "3 + 4im"
       ]
      }
     ],
     "prompt_number": 23
    },
    {
     "cell_type": "code",
     "collapsed": false,
     "input": [
      "complex(3,4.0)"
     ],
     "language": "python",
     "metadata": {},
     "outputs": [
      {
       "metadata": {},
       "output_type": "pyout",
       "prompt_number": 24,
       "text": [
        "3.0 + 4.0im"
       ]
      }
     ],
     "prompt_number": 24
    },
    {
     "cell_type": "code",
     "collapsed": false,
     "input": [
      "sqrt(-1)"
     ],
     "language": "python",
     "metadata": {},
     "outputs": [
      {
       "ename": "LoadError",
       "evalue": "DomainError\nat In[25]:1",
       "output_type": "pyerr",
       "traceback": [
        "DomainError\nat In[25]:1"
       ]
      }
     ],
     "prompt_number": 25
    },
    {
     "cell_type": "code",
     "collapsed": false,
     "input": [
      "sqrt(complex(-1))"
     ],
     "language": "python",
     "metadata": {},
     "outputs": [
      {
       "metadata": {},
       "output_type": "pyout",
       "prompt_number": 26,
       "text": [
        "0.0 + 1.0im"
       ]
      }
     ],
     "prompt_number": 26
    },
    {
     "cell_type": "markdown",
     "metadata": {},
     "source": [
      "###Vectors\n"
     ]
    },
    {
     "cell_type": "code",
     "collapsed": false,
     "input": [
      "A = rand(5,5)"
     ],
     "language": "python",
     "metadata": {},
     "outputs": [
      {
       "metadata": {},
       "output_type": "pyout",
       "prompt_number": 27,
       "text": [
        "5x5 Array{Float64,2}:\n",
        " 0.339232   0.333945  0.594088  0.708987   0.652062 \n",
        " 0.729281   0.726062  0.52195   0.0734827  0.526245 \n",
        " 0.37481    0.20181   0.614495  0.398026   0.423345 \n",
        " 0.0547364  0.819829  0.476099  0.796229   0.0743357\n",
        " 0.0664121  0.457063  0.80826   0.843079   0.800751 "
       ]
      }
     ],
     "prompt_number": 27
    },
    {
     "cell_type": "code",
     "collapsed": false,
     "input": [
      "v = rand(5,1)"
     ],
     "language": "python",
     "metadata": {},
     "outputs": [
      {
       "metadata": {},
       "output_type": "pyout",
       "prompt_number": 28,
       "text": [
        "5x1 Array{Float64,2}:\n",
        " 0.675292\n",
        " 0.885476\n",
        " 0.254511\n",
        " 0.193968\n",
        " 0.18332 "
       ]
      }
     ],
     "prompt_number": 28
    },
    {
     "cell_type": "code",
     "collapsed": false,
     "input": [
      "w = rand(5)"
     ],
     "language": "python",
     "metadata": {},
     "outputs": [
      {
       "metadata": {},
       "output_type": "pyout",
       "prompt_number": 29,
       "text": [
        "5-element Array{Float64,1}:\n",
        " 0.568914\n",
        " 0.853191\n",
        " 0.454826\n",
        " 0.296494\n",
        " 0.141412"
       ]
      }
     ],
     "prompt_number": 29
    },
    {
     "cell_type": "code",
     "collapsed": false,
     "input": [
      "typeof(v)"
     ],
     "language": "python",
     "metadata": {},
     "outputs": [
      {
       "metadata": {},
       "output_type": "pyout",
       "prompt_number": 30,
       "text": [
        "Array{Float64,2}"
       ]
      }
     ],
     "prompt_number": 30
    },
    {
     "cell_type": "code",
     "collapsed": false,
     "input": [
      "typeof(1.0 :5)"
     ],
     "language": "python",
     "metadata": {},
     "outputs": [
      {
       "metadata": {},
       "output_type": "pyout",
       "prompt_number": 31,
       "text": [
        "Range1{Float64} (constructor with 2 methods)"
       ]
      }
     ],
     "prompt_number": 31
    },
    {
     "cell_type": "code",
     "collapsed": false,
     "input": [
      "ones(5)"
     ],
     "language": "python",
     "metadata": {},
     "outputs": [
      {
       "metadata": {},
       "output_type": "pyout",
       "prompt_number": 32,
       "text": [
        "5-element Array{Float64,1}:\n",
        " 1.0\n",
        " 1.0\n",
        " 1.0\n",
        " 1.0\n",
        " 1.0"
       ]
      }
     ],
     "prompt_number": 32
    },
    {
     "cell_type": "code",
     "collapsed": false,
     "input": [
      "eye(5)"
     ],
     "language": "python",
     "metadata": {},
     "outputs": [
      {
       "metadata": {},
       "output_type": "pyout",
       "prompt_number": 33,
       "text": [
        "5x5 Array{Float64,2}:\n",
        " 1.0  0.0  0.0  0.0  0.0\n",
        " 0.0  1.0  0.0  0.0  0.0\n",
        " 0.0  0.0  1.0  0.0  0.0\n",
        " 0.0  0.0  0.0  1.0  0.0\n",
        " 0.0  0.0  0.0  0.0  1.0"
       ]
      }
     ],
     "prompt_number": 33
    },
    {
     "cell_type": "code",
     "collapsed": false,
     "input": [
      "ccall(:clock, Int32, ())"
     ],
     "language": "python",
     "metadata": {},
     "outputs": [
      {
       "metadata": {},
       "output_type": "pyout",
       "prompt_number": 34,
       "text": [
        "1942222"
       ]
      }
     ],
     "prompt_number": 34
    },
    {
     "cell_type": "code",
     "collapsed": false,
     "input": [
      "tic()"
     ],
     "language": "python",
     "metadata": {},
     "outputs": [
      {
       "metadata": {},
       "output_type": "pyout",
       "prompt_number": 35,
       "text": [
        "0x0000a6c2978ccd4f"
       ]
      }
     ],
     "prompt_number": 35
    },
    {
     "cell_type": "code",
     "collapsed": false,
     "input": [
      "toc()"
     ],
     "language": "python",
     "metadata": {},
     "outputs": [
      {
       "output_type": "stream",
       "stream": "stdout",
       "text": [
        "elapsed time: "
       ]
      },
      {
       "output_type": "stream",
       "stream": "stdout",
       "text": [
        "24.814631476 seconds\n"
       ]
      },
      {
       "metadata": {},
       "output_type": "pyout",
       "prompt_number": 38,
       "text": [
        "24.814631476"
       ]
      }
     ],
     "prompt_number": 38
    },
    {
     "cell_type": "code",
     "collapsed": false,
     "input": [
      "function stepbystep()\n",
      "    for n =1:3\n",
      "        produce(n^2)\n",
      "    end\n",
      "end"
     ],
     "language": "python",
     "metadata": {},
     "outputs": [
      {
       "metadata": {},
       "output_type": "pyout",
       "prompt_number": 39,
       "text": [
        "stepbystep (generic function with 1 method)"
       ]
      }
     ],
     "prompt_number": 39
    },
    {
     "cell_type": "code",
     "collapsed": false,
     "input": [
      "p= Task(stepbystep);"
     ],
     "language": "python",
     "metadata": {},
     "outputs": [],
     "prompt_number": 39
    },
    {
     "cell_type": "code",
     "collapsed": false,
     "input": [
      "consume(p)"
     ],
     "language": "python",
     "metadata": {},
     "outputs": [
      {
       "metadata": {},
       "output_type": "pyout",
       "prompt_number": 40,
       "text": [
        "1"
       ]
      }
     ],
     "prompt_number": 40
    },
    {
     "cell_type": "code",
     "collapsed": false,
     "input": [
      "consume(p)"
     ],
     "language": "python",
     "metadata": {},
     "outputs": [
      {
       "metadata": {},
       "output_type": "pyout",
       "prompt_number": 41,
       "text": [
        "4"
       ]
      }
     ],
     "prompt_number": 41
    },
    {
     "cell_type": "code",
     "collapsed": false,
     "input": [
      "consume(p)"
     ],
     "language": "python",
     "metadata": {},
     "outputs": [
      {
       "metadata": {},
       "output_type": "pyout",
       "prompt_number": 42,
       "text": [
        "9"
       ]
      }
     ],
     "prompt_number": 42
    },
    {
     "cell_type": "code",
     "collapsed": false,
     "input": [
      "consume(p)"
     ],
     "language": "python",
     "metadata": {},
     "outputs": [],
     "prompt_number": 43
    },
    {
     "cell_type": "code",
     "collapsed": false,
     "input": [],
     "language": "python",
     "metadata": {},
     "outputs": []
    }
   ],
   "metadata": {}
  }
 ]
}